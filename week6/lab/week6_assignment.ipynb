{
 "cells": [
  {
   "cell_type": "code",
   "execution_count": 1,
   "metadata": {},
   "outputs": [],
   "source": [
    "import pandas as pd\n",
    "import numpy as np"
   ]
  },
  {
   "cell_type": "code",
   "execution_count": 2,
   "metadata": {},
   "outputs": [],
   "source": [
    "acc = pd.read_csv('Accidents_2015.csv', low_memory=False)\n",
    "cas = pd.read_csv('Casualties_2015.csv')"
   ]
  },
  {
   "cell_type": "code",
   "execution_count": 3,
   "metadata": {},
   "outputs": [
    {
     "data": {
      "text/html": [
       "<div>\n",
       "<style scoped>\n",
       "    .dataframe tbody tr th:only-of-type {\n",
       "        vertical-align: middle;\n",
       "    }\n",
       "\n",
       "    .dataframe tbody tr th {\n",
       "        vertical-align: top;\n",
       "    }\n",
       "\n",
       "    .dataframe thead th {\n",
       "        text-align: right;\n",
       "    }\n",
       "</style>\n",
       "<table border=\"1\" class=\"dataframe\">\n",
       "  <thead>\n",
       "    <tr style=\"text-align: right;\">\n",
       "      <th></th>\n",
       "      <th>Accident_Index</th>\n",
       "      <th>Location_Easting_OSGR</th>\n",
       "      <th>Location_Northing_OSGR</th>\n",
       "      <th>Longitude</th>\n",
       "      <th>Latitude</th>\n",
       "      <th>Police_Force</th>\n",
       "      <th>Accident_Severity</th>\n",
       "      <th>Number_of_Vehicles</th>\n",
       "      <th>Number_of_Casualties</th>\n",
       "      <th>Date</th>\n",
       "      <th>...</th>\n",
       "      <th>Pedestrian_Crossing-Human_Control</th>\n",
       "      <th>Pedestrian_Crossing-Physical_Facilities</th>\n",
       "      <th>Light_Conditions</th>\n",
       "      <th>Weather_Conditions</th>\n",
       "      <th>Road_Surface_Conditions</th>\n",
       "      <th>Special_Conditions_at_Site</th>\n",
       "      <th>Carriageway_Hazards</th>\n",
       "      <th>Urban_or_Rural_Area</th>\n",
       "      <th>Did_Police_Officer_Attend_Scene_of_Accident</th>\n",
       "      <th>LSOA_of_Accident_Location</th>\n",
       "    </tr>\n",
       "  </thead>\n",
       "  <tbody>\n",
       "    <tr>\n",
       "      <th>0</th>\n",
       "      <td>201501BS70001</td>\n",
       "      <td>525130.0</td>\n",
       "      <td>180050.0</td>\n",
       "      <td>-0.198465</td>\n",
       "      <td>51.505538</td>\n",
       "      <td>1</td>\n",
       "      <td>3</td>\n",
       "      <td>1</td>\n",
       "      <td>1</td>\n",
       "      <td>12/01/2015</td>\n",
       "      <td>...</td>\n",
       "      <td>0</td>\n",
       "      <td>0</td>\n",
       "      <td>4</td>\n",
       "      <td>1</td>\n",
       "      <td>1</td>\n",
       "      <td>0</td>\n",
       "      <td>0</td>\n",
       "      <td>1</td>\n",
       "      <td>1</td>\n",
       "      <td>E01002825</td>\n",
       "    </tr>\n",
       "    <tr>\n",
       "      <th>1</th>\n",
       "      <td>201501BS70002</td>\n",
       "      <td>526530.0</td>\n",
       "      <td>178560.0</td>\n",
       "      <td>-0.178838</td>\n",
       "      <td>51.491836</td>\n",
       "      <td>1</td>\n",
       "      <td>3</td>\n",
       "      <td>1</td>\n",
       "      <td>1</td>\n",
       "      <td>12/01/2015</td>\n",
       "      <td>...</td>\n",
       "      <td>0</td>\n",
       "      <td>0</td>\n",
       "      <td>1</td>\n",
       "      <td>1</td>\n",
       "      <td>1</td>\n",
       "      <td>0</td>\n",
       "      <td>0</td>\n",
       "      <td>1</td>\n",
       "      <td>1</td>\n",
       "      <td>E01002820</td>\n",
       "    </tr>\n",
       "    <tr>\n",
       "      <th>2</th>\n",
       "      <td>201501BS70004</td>\n",
       "      <td>524610.0</td>\n",
       "      <td>181080.0</td>\n",
       "      <td>-0.205590</td>\n",
       "      <td>51.514910</td>\n",
       "      <td>1</td>\n",
       "      <td>3</td>\n",
       "      <td>1</td>\n",
       "      <td>1</td>\n",
       "      <td>12/01/2015</td>\n",
       "      <td>...</td>\n",
       "      <td>0</td>\n",
       "      <td>1</td>\n",
       "      <td>4</td>\n",
       "      <td>2</td>\n",
       "      <td>2</td>\n",
       "      <td>0</td>\n",
       "      <td>0</td>\n",
       "      <td>1</td>\n",
       "      <td>1</td>\n",
       "      <td>E01002833</td>\n",
       "    </tr>\n",
       "    <tr>\n",
       "      <th>3</th>\n",
       "      <td>201501BS70005</td>\n",
       "      <td>524420.0</td>\n",
       "      <td>181080.0</td>\n",
       "      <td>-0.208327</td>\n",
       "      <td>51.514952</td>\n",
       "      <td>1</td>\n",
       "      <td>3</td>\n",
       "      <td>1</td>\n",
       "      <td>1</td>\n",
       "      <td>13/01/2015</td>\n",
       "      <td>...</td>\n",
       "      <td>0</td>\n",
       "      <td>0</td>\n",
       "      <td>1</td>\n",
       "      <td>1</td>\n",
       "      <td>2</td>\n",
       "      <td>0</td>\n",
       "      <td>0</td>\n",
       "      <td>1</td>\n",
       "      <td>2</td>\n",
       "      <td>E01002874</td>\n",
       "    </tr>\n",
       "    <tr>\n",
       "      <th>4</th>\n",
       "      <td>201501BS70008</td>\n",
       "      <td>524630.0</td>\n",
       "      <td>179040.0</td>\n",
       "      <td>-0.206022</td>\n",
       "      <td>51.496572</td>\n",
       "      <td>1</td>\n",
       "      <td>2</td>\n",
       "      <td>2</td>\n",
       "      <td>1</td>\n",
       "      <td>09/01/2015</td>\n",
       "      <td>...</td>\n",
       "      <td>0</td>\n",
       "      <td>5</td>\n",
       "      <td>1</td>\n",
       "      <td>2</td>\n",
       "      <td>2</td>\n",
       "      <td>0</td>\n",
       "      <td>0</td>\n",
       "      <td>1</td>\n",
       "      <td>2</td>\n",
       "      <td>E01002814</td>\n",
       "    </tr>\n",
       "    <tr>\n",
       "      <th>...</th>\n",
       "      <td>...</td>\n",
       "      <td>...</td>\n",
       "      <td>...</td>\n",
       "      <td>...</td>\n",
       "      <td>...</td>\n",
       "      <td>...</td>\n",
       "      <td>...</td>\n",
       "      <td>...</td>\n",
       "      <td>...</td>\n",
       "      <td>...</td>\n",
       "      <td>...</td>\n",
       "      <td>...</td>\n",
       "      <td>...</td>\n",
       "      <td>...</td>\n",
       "      <td>...</td>\n",
       "      <td>...</td>\n",
       "      <td>...</td>\n",
       "      <td>...</td>\n",
       "      <td>...</td>\n",
       "      <td>...</td>\n",
       "      <td>...</td>\n",
       "    </tr>\n",
       "    <tr>\n",
       "      <th>140051</th>\n",
       "      <td>2015984139115</td>\n",
       "      <td>312087.0</td>\n",
       "      <td>570791.0</td>\n",
       "      <td>-3.376671</td>\n",
       "      <td>55.023855</td>\n",
       "      <td>98</td>\n",
       "      <td>3</td>\n",
       "      <td>3</td>\n",
       "      <td>1</td>\n",
       "      <td>11/12/2015</td>\n",
       "      <td>...</td>\n",
       "      <td>0</td>\n",
       "      <td>0</td>\n",
       "      <td>1</td>\n",
       "      <td>1</td>\n",
       "      <td>2</td>\n",
       "      <td>0</td>\n",
       "      <td>0</td>\n",
       "      <td>2</td>\n",
       "      <td>1</td>\n",
       "      <td>NaN</td>\n",
       "    </tr>\n",
       "    <tr>\n",
       "      <th>140052</th>\n",
       "      <td>2015984139715</td>\n",
       "      <td>320671.0</td>\n",
       "      <td>569791.0</td>\n",
       "      <td>-3.242159</td>\n",
       "      <td>55.016316</td>\n",
       "      <td>98</td>\n",
       "      <td>3</td>\n",
       "      <td>2</td>\n",
       "      <td>1</td>\n",
       "      <td>02/12/2015</td>\n",
       "      <td>...</td>\n",
       "      <td>0</td>\n",
       "      <td>0</td>\n",
       "      <td>1</td>\n",
       "      <td>1</td>\n",
       "      <td>2</td>\n",
       "      <td>0</td>\n",
       "      <td>0</td>\n",
       "      <td>2</td>\n",
       "      <td>1</td>\n",
       "      <td>NaN</td>\n",
       "    </tr>\n",
       "    <tr>\n",
       "      <th>140053</th>\n",
       "      <td>2015984140215</td>\n",
       "      <td>311731.0</td>\n",
       "      <td>586343.0</td>\n",
       "      <td>-3.387067</td>\n",
       "      <td>55.163502</td>\n",
       "      <td>98</td>\n",
       "      <td>2</td>\n",
       "      <td>1</td>\n",
       "      <td>4</td>\n",
       "      <td>23/12/2015</td>\n",
       "      <td>...</td>\n",
       "      <td>0</td>\n",
       "      <td>0</td>\n",
       "      <td>6</td>\n",
       "      <td>4</td>\n",
       "      <td>2</td>\n",
       "      <td>0</td>\n",
       "      <td>0</td>\n",
       "      <td>2</td>\n",
       "      <td>1</td>\n",
       "      <td>NaN</td>\n",
       "    </tr>\n",
       "    <tr>\n",
       "      <th>140054</th>\n",
       "      <td>2015984140515</td>\n",
       "      <td>328273.0</td>\n",
       "      <td>570137.0</td>\n",
       "      <td>-3.123385</td>\n",
       "      <td>55.020580</td>\n",
       "      <td>98</td>\n",
       "      <td>3</td>\n",
       "      <td>3</td>\n",
       "      <td>3</td>\n",
       "      <td>26/12/2015</td>\n",
       "      <td>...</td>\n",
       "      <td>0</td>\n",
       "      <td>0</td>\n",
       "      <td>1</td>\n",
       "      <td>2</td>\n",
       "      <td>2</td>\n",
       "      <td>0</td>\n",
       "      <td>0</td>\n",
       "      <td>2</td>\n",
       "      <td>1</td>\n",
       "      <td>NaN</td>\n",
       "    </tr>\n",
       "    <tr>\n",
       "      <th>140055</th>\n",
       "      <td>2015984141415</td>\n",
       "      <td>314050.0</td>\n",
       "      <td>579638.0</td>\n",
       "      <td>-3.348646</td>\n",
       "      <td>55.103676</td>\n",
       "      <td>98</td>\n",
       "      <td>3</td>\n",
       "      <td>13</td>\n",
       "      <td>7</td>\n",
       "      <td>31/12/2015</td>\n",
       "      <td>...</td>\n",
       "      <td>0</td>\n",
       "      <td>0</td>\n",
       "      <td>6</td>\n",
       "      <td>3</td>\n",
       "      <td>4</td>\n",
       "      <td>0</td>\n",
       "      <td>0</td>\n",
       "      <td>2</td>\n",
       "      <td>1</td>\n",
       "      <td>NaN</td>\n",
       "    </tr>\n",
       "  </tbody>\n",
       "</table>\n",
       "<p>140056 rows × 32 columns</p>\n",
       "</div>"
      ],
      "text/plain": [
       "       Accident_Index  Location_Easting_OSGR  Location_Northing_OSGR  \\\n",
       "0       201501BS70001               525130.0                180050.0   \n",
       "1       201501BS70002               526530.0                178560.0   \n",
       "2       201501BS70004               524610.0                181080.0   \n",
       "3       201501BS70005               524420.0                181080.0   \n",
       "4       201501BS70008               524630.0                179040.0   \n",
       "...               ...                    ...                     ...   \n",
       "140051  2015984139115               312087.0                570791.0   \n",
       "140052  2015984139715               320671.0                569791.0   \n",
       "140053  2015984140215               311731.0                586343.0   \n",
       "140054  2015984140515               328273.0                570137.0   \n",
       "140055  2015984141415               314050.0                579638.0   \n",
       "\n",
       "        Longitude   Latitude  Police_Force  Accident_Severity  \\\n",
       "0       -0.198465  51.505538             1                  3   \n",
       "1       -0.178838  51.491836             1                  3   \n",
       "2       -0.205590  51.514910             1                  3   \n",
       "3       -0.208327  51.514952             1                  3   \n",
       "4       -0.206022  51.496572             1                  2   \n",
       "...           ...        ...           ...                ...   \n",
       "140051  -3.376671  55.023855            98                  3   \n",
       "140052  -3.242159  55.016316            98                  3   \n",
       "140053  -3.387067  55.163502            98                  2   \n",
       "140054  -3.123385  55.020580            98                  3   \n",
       "140055  -3.348646  55.103676            98                  3   \n",
       "\n",
       "        Number_of_Vehicles  Number_of_Casualties        Date  ...  \\\n",
       "0                        1                     1  12/01/2015  ...   \n",
       "1                        1                     1  12/01/2015  ...   \n",
       "2                        1                     1  12/01/2015  ...   \n",
       "3                        1                     1  13/01/2015  ...   \n",
       "4                        2                     1  09/01/2015  ...   \n",
       "...                    ...                   ...         ...  ...   \n",
       "140051                   3                     1  11/12/2015  ...   \n",
       "140052                   2                     1  02/12/2015  ...   \n",
       "140053                   1                     4  23/12/2015  ...   \n",
       "140054                   3                     3  26/12/2015  ...   \n",
       "140055                  13                     7  31/12/2015  ...   \n",
       "\n",
       "        Pedestrian_Crossing-Human_Control  \\\n",
       "0                                       0   \n",
       "1                                       0   \n",
       "2                                       0   \n",
       "3                                       0   \n",
       "4                                       0   \n",
       "...                                   ...   \n",
       "140051                                  0   \n",
       "140052                                  0   \n",
       "140053                                  0   \n",
       "140054                                  0   \n",
       "140055                                  0   \n",
       "\n",
       "       Pedestrian_Crossing-Physical_Facilities  Light_Conditions  \\\n",
       "0                                            0                 4   \n",
       "1                                            0                 1   \n",
       "2                                            1                 4   \n",
       "3                                            0                 1   \n",
       "4                                            5                 1   \n",
       "...                                        ...               ...   \n",
       "140051                                       0                 1   \n",
       "140052                                       0                 1   \n",
       "140053                                       0                 6   \n",
       "140054                                       0                 1   \n",
       "140055                                       0                 6   \n",
       "\n",
       "       Weather_Conditions  Road_Surface_Conditions  \\\n",
       "0                       1                        1   \n",
       "1                       1                        1   \n",
       "2                       2                        2   \n",
       "3                       1                        2   \n",
       "4                       2                        2   \n",
       "...                   ...                      ...   \n",
       "140051                  1                        2   \n",
       "140052                  1                        2   \n",
       "140053                  4                        2   \n",
       "140054                  2                        2   \n",
       "140055                  3                        4   \n",
       "\n",
       "        Special_Conditions_at_Site  Carriageway_Hazards  Urban_or_Rural_Area  \\\n",
       "0                                0                    0                    1   \n",
       "1                                0                    0                    1   \n",
       "2                                0                    0                    1   \n",
       "3                                0                    0                    1   \n",
       "4                                0                    0                    1   \n",
       "...                            ...                  ...                  ...   \n",
       "140051                           0                    0                    2   \n",
       "140052                           0                    0                    2   \n",
       "140053                           0                    0                    2   \n",
       "140054                           0                    0                    2   \n",
       "140055                           0                    0                    2   \n",
       "\n",
       "        Did_Police_Officer_Attend_Scene_of_Accident  LSOA_of_Accident_Location  \n",
       "0                                                 1                  E01002825  \n",
       "1                                                 1                  E01002820  \n",
       "2                                                 1                  E01002833  \n",
       "3                                                 2                  E01002874  \n",
       "4                                                 2                  E01002814  \n",
       "...                                             ...                        ...  \n",
       "140051                                            1                        NaN  \n",
       "140052                                            1                        NaN  \n",
       "140053                                            1                        NaN  \n",
       "140054                                            1                        NaN  \n",
       "140055                                            1                        NaN  \n",
       "\n",
       "[140056 rows x 32 columns]"
      ]
     },
     "execution_count": 3,
     "metadata": {},
     "output_type": "execute_result"
    }
   ],
   "source": [
    "acc"
   ]
  },
  {
   "cell_type": "code",
   "execution_count": 4,
   "metadata": {},
   "outputs": [
    {
     "data": {
      "text/html": [
       "<div>\n",
       "<style scoped>\n",
       "    .dataframe tbody tr th:only-of-type {\n",
       "        vertical-align: middle;\n",
       "    }\n",
       "\n",
       "    .dataframe tbody tr th {\n",
       "        vertical-align: top;\n",
       "    }\n",
       "\n",
       "    .dataframe thead th {\n",
       "        text-align: right;\n",
       "    }\n",
       "</style>\n",
       "<table border=\"1\" class=\"dataframe\">\n",
       "  <thead>\n",
       "    <tr style=\"text-align: right;\">\n",
       "      <th></th>\n",
       "      <th>Accident_Index</th>\n",
       "      <th>Vehicle_Reference</th>\n",
       "      <th>Casualty_Reference</th>\n",
       "      <th>Casualty_Class</th>\n",
       "      <th>Sex_of_Casualty</th>\n",
       "      <th>Age_of_Casualty</th>\n",
       "      <th>Age_Band_of_Casualty</th>\n",
       "      <th>Casualty_Severity</th>\n",
       "      <th>Pedestrian_Location</th>\n",
       "      <th>Pedestrian_Movement</th>\n",
       "      <th>Car_Passenger</th>\n",
       "      <th>Bus_or_Coach_Passenger</th>\n",
       "      <th>Pedestrian_Road_Maintenance_Worker</th>\n",
       "      <th>Casualty_Type</th>\n",
       "      <th>Casualty_Home_Area_Type</th>\n",
       "      <th>Casualty_IMD_Decile</th>\n",
       "    </tr>\n",
       "  </thead>\n",
       "  <tbody>\n",
       "    <tr>\n",
       "      <th>0</th>\n",
       "      <td>201597UA71710</td>\n",
       "      <td>2</td>\n",
       "      <td>1</td>\n",
       "      <td>1</td>\n",
       "      <td>2</td>\n",
       "      <td>75</td>\n",
       "      <td>10</td>\n",
       "      <td>3</td>\n",
       "      <td>0</td>\n",
       "      <td>0</td>\n",
       "      <td>0</td>\n",
       "      <td>0</td>\n",
       "      <td>0</td>\n",
       "      <td>9</td>\n",
       "      <td>3</td>\n",
       "      <td>-1</td>\n",
       "    </tr>\n",
       "    <tr>\n",
       "      <th>1</th>\n",
       "      <td>201597UA71810</td>\n",
       "      <td>2</td>\n",
       "      <td>1</td>\n",
       "      <td>2</td>\n",
       "      <td>2</td>\n",
       "      <td>63</td>\n",
       "      <td>9</td>\n",
       "      <td>2</td>\n",
       "      <td>0</td>\n",
       "      <td>0</td>\n",
       "      <td>0</td>\n",
       "      <td>4</td>\n",
       "      <td>0</td>\n",
       "      <td>11</td>\n",
       "      <td>3</td>\n",
       "      <td>-1</td>\n",
       "    </tr>\n",
       "    <tr>\n",
       "      <th>2</th>\n",
       "      <td>201597UA71810</td>\n",
       "      <td>2</td>\n",
       "      <td>2</td>\n",
       "      <td>2</td>\n",
       "      <td>2</td>\n",
       "      <td>75</td>\n",
       "      <td>10</td>\n",
       "      <td>2</td>\n",
       "      <td>0</td>\n",
       "      <td>0</td>\n",
       "      <td>0</td>\n",
       "      <td>4</td>\n",
       "      <td>0</td>\n",
       "      <td>11</td>\n",
       "      <td>1</td>\n",
       "      <td>-1</td>\n",
       "    </tr>\n",
       "    <tr>\n",
       "      <th>3</th>\n",
       "      <td>201597UA71810</td>\n",
       "      <td>2</td>\n",
       "      <td>3</td>\n",
       "      <td>2</td>\n",
       "      <td>1</td>\n",
       "      <td>78</td>\n",
       "      <td>11</td>\n",
       "      <td>2</td>\n",
       "      <td>0</td>\n",
       "      <td>0</td>\n",
       "      <td>0</td>\n",
       "      <td>4</td>\n",
       "      <td>0</td>\n",
       "      <td>11</td>\n",
       "      <td>1</td>\n",
       "      <td>-1</td>\n",
       "    </tr>\n",
       "    <tr>\n",
       "      <th>4</th>\n",
       "      <td>201597UA71810</td>\n",
       "      <td>2</td>\n",
       "      <td>4</td>\n",
       "      <td>2</td>\n",
       "      <td>1</td>\n",
       "      <td>67</td>\n",
       "      <td>10</td>\n",
       "      <td>2</td>\n",
       "      <td>0</td>\n",
       "      <td>0</td>\n",
       "      <td>0</td>\n",
       "      <td>4</td>\n",
       "      <td>0</td>\n",
       "      <td>11</td>\n",
       "      <td>1</td>\n",
       "      <td>-1</td>\n",
       "    </tr>\n",
       "    <tr>\n",
       "      <th>...</th>\n",
       "      <td>...</td>\n",
       "      <td>...</td>\n",
       "      <td>...</td>\n",
       "      <td>...</td>\n",
       "      <td>...</td>\n",
       "      <td>...</td>\n",
       "      <td>...</td>\n",
       "      <td>...</td>\n",
       "      <td>...</td>\n",
       "      <td>...</td>\n",
       "      <td>...</td>\n",
       "      <td>...</td>\n",
       "      <td>...</td>\n",
       "      <td>...</td>\n",
       "      <td>...</td>\n",
       "      <td>...</td>\n",
       "    </tr>\n",
       "    <tr>\n",
       "      <th>186184</th>\n",
       "      <td>201597UA71412</td>\n",
       "      <td>2</td>\n",
       "      <td>2</td>\n",
       "      <td>2</td>\n",
       "      <td>2</td>\n",
       "      <td>10</td>\n",
       "      <td>2</td>\n",
       "      <td>3</td>\n",
       "      <td>0</td>\n",
       "      <td>0</td>\n",
       "      <td>2</td>\n",
       "      <td>0</td>\n",
       "      <td>0</td>\n",
       "      <td>9</td>\n",
       "      <td>1</td>\n",
       "      <td>-1</td>\n",
       "    </tr>\n",
       "    <tr>\n",
       "      <th>186185</th>\n",
       "      <td>201597UA71412</td>\n",
       "      <td>2</td>\n",
       "      <td>3</td>\n",
       "      <td>1</td>\n",
       "      <td>1</td>\n",
       "      <td>46</td>\n",
       "      <td>8</td>\n",
       "      <td>3</td>\n",
       "      <td>0</td>\n",
       "      <td>0</td>\n",
       "      <td>0</td>\n",
       "      <td>0</td>\n",
       "      <td>0</td>\n",
       "      <td>9</td>\n",
       "      <td>1</td>\n",
       "      <td>-1</td>\n",
       "    </tr>\n",
       "    <tr>\n",
       "      <th>186186</th>\n",
       "      <td>201597UA71510</td>\n",
       "      <td>1</td>\n",
       "      <td>1</td>\n",
       "      <td>3</td>\n",
       "      <td>2</td>\n",
       "      <td>52</td>\n",
       "      <td>8</td>\n",
       "      <td>3</td>\n",
       "      <td>6</td>\n",
       "      <td>9</td>\n",
       "      <td>0</td>\n",
       "      <td>0</td>\n",
       "      <td>0</td>\n",
       "      <td>0</td>\n",
       "      <td>1</td>\n",
       "      <td>-1</td>\n",
       "    </tr>\n",
       "    <tr>\n",
       "      <th>186187</th>\n",
       "      <td>201597UA71610</td>\n",
       "      <td>2</td>\n",
       "      <td>1</td>\n",
       "      <td>1</td>\n",
       "      <td>2</td>\n",
       "      <td>42</td>\n",
       "      <td>7</td>\n",
       "      <td>3</td>\n",
       "      <td>0</td>\n",
       "      <td>0</td>\n",
       "      <td>0</td>\n",
       "      <td>0</td>\n",
       "      <td>0</td>\n",
       "      <td>9</td>\n",
       "      <td>-1</td>\n",
       "      <td>-1</td>\n",
       "    </tr>\n",
       "    <tr>\n",
       "      <th>186188</th>\n",
       "      <td>201597UA71611</td>\n",
       "      <td>1</td>\n",
       "      <td>1</td>\n",
       "      <td>1</td>\n",
       "      <td>1</td>\n",
       "      <td>37</td>\n",
       "      <td>7</td>\n",
       "      <td>2</td>\n",
       "      <td>0</td>\n",
       "      <td>0</td>\n",
       "      <td>0</td>\n",
       "      <td>0</td>\n",
       "      <td>0</td>\n",
       "      <td>9</td>\n",
       "      <td>2</td>\n",
       "      <td>-1</td>\n",
       "    </tr>\n",
       "  </tbody>\n",
       "</table>\n",
       "<p>186189 rows × 16 columns</p>\n",
       "</div>"
      ],
      "text/plain": [
       "       Accident_Index  Vehicle_Reference  Casualty_Reference  Casualty_Class  \\\n",
       "0       201597UA71710                  2                   1               1   \n",
       "1       201597UA71810                  2                   1               2   \n",
       "2       201597UA71810                  2                   2               2   \n",
       "3       201597UA71810                  2                   3               2   \n",
       "4       201597UA71810                  2                   4               2   \n",
       "...               ...                ...                 ...             ...   \n",
       "186184  201597UA71412                  2                   2               2   \n",
       "186185  201597UA71412                  2                   3               1   \n",
       "186186  201597UA71510                  1                   1               3   \n",
       "186187  201597UA71610                  2                   1               1   \n",
       "186188  201597UA71611                  1                   1               1   \n",
       "\n",
       "        Sex_of_Casualty  Age_of_Casualty  Age_Band_of_Casualty  \\\n",
       "0                     2               75                    10   \n",
       "1                     2               63                     9   \n",
       "2                     2               75                    10   \n",
       "3                     1               78                    11   \n",
       "4                     1               67                    10   \n",
       "...                 ...              ...                   ...   \n",
       "186184                2               10                     2   \n",
       "186185                1               46                     8   \n",
       "186186                2               52                     8   \n",
       "186187                2               42                     7   \n",
       "186188                1               37                     7   \n",
       "\n",
       "        Casualty_Severity  Pedestrian_Location  Pedestrian_Movement  \\\n",
       "0                       3                    0                    0   \n",
       "1                       2                    0                    0   \n",
       "2                       2                    0                    0   \n",
       "3                       2                    0                    0   \n",
       "4                       2                    0                    0   \n",
       "...                   ...                  ...                  ...   \n",
       "186184                  3                    0                    0   \n",
       "186185                  3                    0                    0   \n",
       "186186                  3                    6                    9   \n",
       "186187                  3                    0                    0   \n",
       "186188                  2                    0                    0   \n",
       "\n",
       "        Car_Passenger  Bus_or_Coach_Passenger  \\\n",
       "0                   0                       0   \n",
       "1                   0                       4   \n",
       "2                   0                       4   \n",
       "3                   0                       4   \n",
       "4                   0                       4   \n",
       "...               ...                     ...   \n",
       "186184              2                       0   \n",
       "186185              0                       0   \n",
       "186186              0                       0   \n",
       "186187              0                       0   \n",
       "186188              0                       0   \n",
       "\n",
       "        Pedestrian_Road_Maintenance_Worker  Casualty_Type  \\\n",
       "0                                        0              9   \n",
       "1                                        0             11   \n",
       "2                                        0             11   \n",
       "3                                        0             11   \n",
       "4                                        0             11   \n",
       "...                                    ...            ...   \n",
       "186184                                   0              9   \n",
       "186185                                   0              9   \n",
       "186186                                   0              0   \n",
       "186187                                   0              9   \n",
       "186188                                   0              9   \n",
       "\n",
       "        Casualty_Home_Area_Type  Casualty_IMD_Decile  \n",
       "0                             3                   -1  \n",
       "1                             3                   -1  \n",
       "2                             1                   -1  \n",
       "3                             1                   -1  \n",
       "4                             1                   -1  \n",
       "...                         ...                  ...  \n",
       "186184                        1                   -1  \n",
       "186185                        1                   -1  \n",
       "186186                        1                   -1  \n",
       "186187                       -1                   -1  \n",
       "186188                        2                   -1  \n",
       "\n",
       "[186189 rows x 16 columns]"
      ]
     },
     "execution_count": 4,
     "metadata": {},
     "output_type": "execute_result"
    }
   ],
   "source": [
    "cas"
   ]
  },
  {
   "cell_type": "code",
   "execution_count": 5,
   "metadata": {},
   "outputs": [],
   "source": [
    "df = acc.merge(cas, on='Accident_Index', how='left')"
   ]
  },
  {
   "cell_type": "code",
   "execution_count": 6,
   "metadata": {},
   "outputs": [
    {
     "data": {
      "text/html": [
       "<div>\n",
       "<style scoped>\n",
       "    .dataframe tbody tr th:only-of-type {\n",
       "        vertical-align: middle;\n",
       "    }\n",
       "\n",
       "    .dataframe tbody tr th {\n",
       "        vertical-align: top;\n",
       "    }\n",
       "\n",
       "    .dataframe thead th {\n",
       "        text-align: right;\n",
       "    }\n",
       "</style>\n",
       "<table border=\"1\" class=\"dataframe\">\n",
       "  <thead>\n",
       "    <tr style=\"text-align: right;\">\n",
       "      <th></th>\n",
       "      <th>Accident_Index</th>\n",
       "      <th>Location_Easting_OSGR</th>\n",
       "      <th>Location_Northing_OSGR</th>\n",
       "      <th>Longitude</th>\n",
       "      <th>Latitude</th>\n",
       "      <th>Police_Force</th>\n",
       "      <th>Accident_Severity</th>\n",
       "      <th>Number_of_Vehicles</th>\n",
       "      <th>Number_of_Casualties</th>\n",
       "      <th>Date</th>\n",
       "      <th>...</th>\n",
       "      <th>Age_Band_of_Casualty</th>\n",
       "      <th>Casualty_Severity</th>\n",
       "      <th>Pedestrian_Location</th>\n",
       "      <th>Pedestrian_Movement</th>\n",
       "      <th>Car_Passenger</th>\n",
       "      <th>Bus_or_Coach_Passenger</th>\n",
       "      <th>Pedestrian_Road_Maintenance_Worker</th>\n",
       "      <th>Casualty_Type</th>\n",
       "      <th>Casualty_Home_Area_Type</th>\n",
       "      <th>Casualty_IMD_Decile</th>\n",
       "    </tr>\n",
       "  </thead>\n",
       "  <tbody>\n",
       "    <tr>\n",
       "      <th>0</th>\n",
       "      <td>201501BS70001</td>\n",
       "      <td>525130.0</td>\n",
       "      <td>180050.0</td>\n",
       "      <td>-0.198465</td>\n",
       "      <td>51.505538</td>\n",
       "      <td>1</td>\n",
       "      <td>3</td>\n",
       "      <td>1</td>\n",
       "      <td>1</td>\n",
       "      <td>12/01/2015</td>\n",
       "      <td>...</td>\n",
       "      <td>7</td>\n",
       "      <td>3</td>\n",
       "      <td>5</td>\n",
       "      <td>1</td>\n",
       "      <td>0</td>\n",
       "      <td>0</td>\n",
       "      <td>2</td>\n",
       "      <td>0</td>\n",
       "      <td>-1</td>\n",
       "      <td>-1</td>\n",
       "    </tr>\n",
       "    <tr>\n",
       "      <th>1</th>\n",
       "      <td>201501BS70002</td>\n",
       "      <td>526530.0</td>\n",
       "      <td>178560.0</td>\n",
       "      <td>-0.178838</td>\n",
       "      <td>51.491836</td>\n",
       "      <td>1</td>\n",
       "      <td>3</td>\n",
       "      <td>1</td>\n",
       "      <td>1</td>\n",
       "      <td>12/01/2015</td>\n",
       "      <td>...</td>\n",
       "      <td>5</td>\n",
       "      <td>3</td>\n",
       "      <td>9</td>\n",
       "      <td>9</td>\n",
       "      <td>0</td>\n",
       "      <td>0</td>\n",
       "      <td>2</td>\n",
       "      <td>0</td>\n",
       "      <td>1</td>\n",
       "      <td>3</td>\n",
       "    </tr>\n",
       "    <tr>\n",
       "      <th>2</th>\n",
       "      <td>201501BS70004</td>\n",
       "      <td>524610.0</td>\n",
       "      <td>181080.0</td>\n",
       "      <td>-0.205590</td>\n",
       "      <td>51.514910</td>\n",
       "      <td>1</td>\n",
       "      <td>3</td>\n",
       "      <td>1</td>\n",
       "      <td>1</td>\n",
       "      <td>12/01/2015</td>\n",
       "      <td>...</td>\n",
       "      <td>6</td>\n",
       "      <td>3</td>\n",
       "      <td>1</td>\n",
       "      <td>3</td>\n",
       "      <td>0</td>\n",
       "      <td>0</td>\n",
       "      <td>2</td>\n",
       "      <td>0</td>\n",
       "      <td>1</td>\n",
       "      <td>6</td>\n",
       "    </tr>\n",
       "    <tr>\n",
       "      <th>3</th>\n",
       "      <td>201501BS70005</td>\n",
       "      <td>524420.0</td>\n",
       "      <td>181080.0</td>\n",
       "      <td>-0.208327</td>\n",
       "      <td>51.514952</td>\n",
       "      <td>1</td>\n",
       "      <td>3</td>\n",
       "      <td>1</td>\n",
       "      <td>1</td>\n",
       "      <td>13/01/2015</td>\n",
       "      <td>...</td>\n",
       "      <td>2</td>\n",
       "      <td>3</td>\n",
       "      <td>5</td>\n",
       "      <td>1</td>\n",
       "      <td>0</td>\n",
       "      <td>0</td>\n",
       "      <td>2</td>\n",
       "      <td>0</td>\n",
       "      <td>1</td>\n",
       "      <td>2</td>\n",
       "    </tr>\n",
       "    <tr>\n",
       "      <th>4</th>\n",
       "      <td>201501BS70008</td>\n",
       "      <td>524630.0</td>\n",
       "      <td>179040.0</td>\n",
       "      <td>-0.206022</td>\n",
       "      <td>51.496572</td>\n",
       "      <td>1</td>\n",
       "      <td>2</td>\n",
       "      <td>2</td>\n",
       "      <td>1</td>\n",
       "      <td>09/01/2015</td>\n",
       "      <td>...</td>\n",
       "      <td>8</td>\n",
       "      <td>2</td>\n",
       "      <td>0</td>\n",
       "      <td>0</td>\n",
       "      <td>0</td>\n",
       "      <td>0</td>\n",
       "      <td>0</td>\n",
       "      <td>1</td>\n",
       "      <td>1</td>\n",
       "      <td>3</td>\n",
       "    </tr>\n",
       "    <tr>\n",
       "      <th>...</th>\n",
       "      <td>...</td>\n",
       "      <td>...</td>\n",
       "      <td>...</td>\n",
       "      <td>...</td>\n",
       "      <td>...</td>\n",
       "      <td>...</td>\n",
       "      <td>...</td>\n",
       "      <td>...</td>\n",
       "      <td>...</td>\n",
       "      <td>...</td>\n",
       "      <td>...</td>\n",
       "      <td>...</td>\n",
       "      <td>...</td>\n",
       "      <td>...</td>\n",
       "      <td>...</td>\n",
       "      <td>...</td>\n",
       "      <td>...</td>\n",
       "      <td>...</td>\n",
       "      <td>...</td>\n",
       "      <td>...</td>\n",
       "      <td>...</td>\n",
       "    </tr>\n",
       "    <tr>\n",
       "      <th>186184</th>\n",
       "      <td>2015984141415</td>\n",
       "      <td>314050.0</td>\n",
       "      <td>579638.0</td>\n",
       "      <td>-3.348646</td>\n",
       "      <td>55.103676</td>\n",
       "      <td>98</td>\n",
       "      <td>3</td>\n",
       "      <td>13</td>\n",
       "      <td>7</td>\n",
       "      <td>31/12/2015</td>\n",
       "      <td>...</td>\n",
       "      <td>1</td>\n",
       "      <td>3</td>\n",
       "      <td>0</td>\n",
       "      <td>0</td>\n",
       "      <td>2</td>\n",
       "      <td>0</td>\n",
       "      <td>0</td>\n",
       "      <td>9</td>\n",
       "      <td>1</td>\n",
       "      <td>-1</td>\n",
       "    </tr>\n",
       "    <tr>\n",
       "      <th>186185</th>\n",
       "      <td>2015984141415</td>\n",
       "      <td>314050.0</td>\n",
       "      <td>579638.0</td>\n",
       "      <td>-3.348646</td>\n",
       "      <td>55.103676</td>\n",
       "      <td>98</td>\n",
       "      <td>3</td>\n",
       "      <td>13</td>\n",
       "      <td>7</td>\n",
       "      <td>31/12/2015</td>\n",
       "      <td>...</td>\n",
       "      <td>5</td>\n",
       "      <td>3</td>\n",
       "      <td>0</td>\n",
       "      <td>0</td>\n",
       "      <td>0</td>\n",
       "      <td>0</td>\n",
       "      <td>0</td>\n",
       "      <td>9</td>\n",
       "      <td>1</td>\n",
       "      <td>2</td>\n",
       "    </tr>\n",
       "    <tr>\n",
       "      <th>186186</th>\n",
       "      <td>2015984141415</td>\n",
       "      <td>314050.0</td>\n",
       "      <td>579638.0</td>\n",
       "      <td>-3.348646</td>\n",
       "      <td>55.103676</td>\n",
       "      <td>98</td>\n",
       "      <td>3</td>\n",
       "      <td>13</td>\n",
       "      <td>7</td>\n",
       "      <td>31/12/2015</td>\n",
       "      <td>...</td>\n",
       "      <td>4</td>\n",
       "      <td>3</td>\n",
       "      <td>0</td>\n",
       "      <td>0</td>\n",
       "      <td>0</td>\n",
       "      <td>0</td>\n",
       "      <td>0</td>\n",
       "      <td>9</td>\n",
       "      <td>2</td>\n",
       "      <td>5</td>\n",
       "    </tr>\n",
       "    <tr>\n",
       "      <th>186187</th>\n",
       "      <td>2015984141415</td>\n",
       "      <td>314050.0</td>\n",
       "      <td>579638.0</td>\n",
       "      <td>-3.348646</td>\n",
       "      <td>55.103676</td>\n",
       "      <td>98</td>\n",
       "      <td>3</td>\n",
       "      <td>13</td>\n",
       "      <td>7</td>\n",
       "      <td>31/12/2015</td>\n",
       "      <td>...</td>\n",
       "      <td>6</td>\n",
       "      <td>3</td>\n",
       "      <td>0</td>\n",
       "      <td>0</td>\n",
       "      <td>0</td>\n",
       "      <td>0</td>\n",
       "      <td>0</td>\n",
       "      <td>9</td>\n",
       "      <td>3</td>\n",
       "      <td>-1</td>\n",
       "    </tr>\n",
       "    <tr>\n",
       "      <th>186188</th>\n",
       "      <td>2015984141415</td>\n",
       "      <td>314050.0</td>\n",
       "      <td>579638.0</td>\n",
       "      <td>-3.348646</td>\n",
       "      <td>55.103676</td>\n",
       "      <td>98</td>\n",
       "      <td>3</td>\n",
       "      <td>13</td>\n",
       "      <td>7</td>\n",
       "      <td>31/12/2015</td>\n",
       "      <td>...</td>\n",
       "      <td>4</td>\n",
       "      <td>3</td>\n",
       "      <td>0</td>\n",
       "      <td>0</td>\n",
       "      <td>0</td>\n",
       "      <td>0</td>\n",
       "      <td>0</td>\n",
       "      <td>9</td>\n",
       "      <td>1</td>\n",
       "      <td>4</td>\n",
       "    </tr>\n",
       "  </tbody>\n",
       "</table>\n",
       "<p>186189 rows × 47 columns</p>\n",
       "</div>"
      ],
      "text/plain": [
       "       Accident_Index  Location_Easting_OSGR  Location_Northing_OSGR  \\\n",
       "0       201501BS70001               525130.0                180050.0   \n",
       "1       201501BS70002               526530.0                178560.0   \n",
       "2       201501BS70004               524610.0                181080.0   \n",
       "3       201501BS70005               524420.0                181080.0   \n",
       "4       201501BS70008               524630.0                179040.0   \n",
       "...               ...                    ...                     ...   \n",
       "186184  2015984141415               314050.0                579638.0   \n",
       "186185  2015984141415               314050.0                579638.0   \n",
       "186186  2015984141415               314050.0                579638.0   \n",
       "186187  2015984141415               314050.0                579638.0   \n",
       "186188  2015984141415               314050.0                579638.0   \n",
       "\n",
       "        Longitude   Latitude  Police_Force  Accident_Severity  \\\n",
       "0       -0.198465  51.505538             1                  3   \n",
       "1       -0.178838  51.491836             1                  3   \n",
       "2       -0.205590  51.514910             1                  3   \n",
       "3       -0.208327  51.514952             1                  3   \n",
       "4       -0.206022  51.496572             1                  2   \n",
       "...           ...        ...           ...                ...   \n",
       "186184  -3.348646  55.103676            98                  3   \n",
       "186185  -3.348646  55.103676            98                  3   \n",
       "186186  -3.348646  55.103676            98                  3   \n",
       "186187  -3.348646  55.103676            98                  3   \n",
       "186188  -3.348646  55.103676            98                  3   \n",
       "\n",
       "        Number_of_Vehicles  Number_of_Casualties        Date  ...  \\\n",
       "0                        1                     1  12/01/2015  ...   \n",
       "1                        1                     1  12/01/2015  ...   \n",
       "2                        1                     1  12/01/2015  ...   \n",
       "3                        1                     1  13/01/2015  ...   \n",
       "4                        2                     1  09/01/2015  ...   \n",
       "...                    ...                   ...         ...  ...   \n",
       "186184                  13                     7  31/12/2015  ...   \n",
       "186185                  13                     7  31/12/2015  ...   \n",
       "186186                  13                     7  31/12/2015  ...   \n",
       "186187                  13                     7  31/12/2015  ...   \n",
       "186188                  13                     7  31/12/2015  ...   \n",
       "\n",
       "        Age_Band_of_Casualty Casualty_Severity  Pedestrian_Location  \\\n",
       "0                          7                 3                    5   \n",
       "1                          5                 3                    9   \n",
       "2                          6                 3                    1   \n",
       "3                          2                 3                    5   \n",
       "4                          8                 2                    0   \n",
       "...                      ...               ...                  ...   \n",
       "186184                     1                 3                    0   \n",
       "186185                     5                 3                    0   \n",
       "186186                     4                 3                    0   \n",
       "186187                     6                 3                    0   \n",
       "186188                     4                 3                    0   \n",
       "\n",
       "       Pedestrian_Movement  Car_Passenger  Bus_or_Coach_Passenger  \\\n",
       "0                        1              0                       0   \n",
       "1                        9              0                       0   \n",
       "2                        3              0                       0   \n",
       "3                        1              0                       0   \n",
       "4                        0              0                       0   \n",
       "...                    ...            ...                     ...   \n",
       "186184                   0              2                       0   \n",
       "186185                   0              0                       0   \n",
       "186186                   0              0                       0   \n",
       "186187                   0              0                       0   \n",
       "186188                   0              0                       0   \n",
       "\n",
       "        Pedestrian_Road_Maintenance_Worker  Casualty_Type  \\\n",
       "0                                        2              0   \n",
       "1                                        2              0   \n",
       "2                                        2              0   \n",
       "3                                        2              0   \n",
       "4                                        0              1   \n",
       "...                                    ...            ...   \n",
       "186184                                   0              9   \n",
       "186185                                   0              9   \n",
       "186186                                   0              9   \n",
       "186187                                   0              9   \n",
       "186188                                   0              9   \n",
       "\n",
       "        Casualty_Home_Area_Type  Casualty_IMD_Decile  \n",
       "0                            -1                   -1  \n",
       "1                             1                    3  \n",
       "2                             1                    6  \n",
       "3                             1                    2  \n",
       "4                             1                    3  \n",
       "...                         ...                  ...  \n",
       "186184                        1                   -1  \n",
       "186185                        1                    2  \n",
       "186186                        2                    5  \n",
       "186187                        3                   -1  \n",
       "186188                        1                    4  \n",
       "\n",
       "[186189 rows x 47 columns]"
      ]
     },
     "execution_count": 6,
     "metadata": {},
     "output_type": "execute_result"
    }
   ],
   "source": [
    "df"
   ]
  },
  {
   "cell_type": "code",
   "execution_count": 7,
   "metadata": {},
   "outputs": [],
   "source": [
    "rep_dict = {1: 'Minor', 2: 'Medium', 3: 'Severe'}"
   ]
  },
  {
   "cell_type": "code",
   "execution_count": 8,
   "metadata": {},
   "outputs": [],
   "source": [
    "df.Accident_Severity.replace(rep_dict, inplace=True)"
   ]
  },
  {
   "cell_type": "code",
   "execution_count": 9,
   "metadata": {},
   "outputs": [
    {
     "data": {
      "text/plain": [
       "Junction_Detail                                    1\n",
       "Junction_Control                               76678\n",
       "2nd_Road_Class                                 77383\n",
       "2nd_Road_Number                                  938\n",
       "Pedestrian_Crossing-Human_Control                167\n",
       "Pedestrian_Crossing-Physical_Facilities          155\n",
       "Road_Surface_Conditions                          339\n",
       "Special_Conditions_at_Site                       125\n",
       "Carriageway_Hazards                              112\n",
       "Did_Police_Officer_Attend_Scene_of_Accident       12\n",
       "Sex_of_Casualty                                   61\n",
       "Age_of_Casualty                                 2994\n",
       "Age_Band_of_Casualty                            2994\n",
       "Pedestrian_Location                                2\n",
       "Pedestrian_Movement                                2\n",
       "Car_Passenger                                    376\n",
       "Bus_or_Coach_Passenger                            25\n",
       "Pedestrian_Road_Maintenance_Worker               153\n",
       "Casualty_Home_Area_Type                        21157\n",
       "Casualty_IMD_Decile                            36756\n",
       "dtype: int64"
      ]
     },
     "execution_count": 9,
     "metadata": {},
     "output_type": "execute_result"
    }
   ],
   "source": [
    "counts = df.isin([-1]).sum()\n",
    "counts[counts > 0]"
   ]
  },
  {
   "cell_type": "code",
   "execution_count": 10,
   "metadata": {},
   "outputs": [],
   "source": [
    "df.replace(-1, np.nan, inplace=True)"
   ]
  },
  {
   "cell_type": "code",
   "execution_count": 11,
   "metadata": {},
   "outputs": [
    {
     "data": {
      "text/plain": [
       "Accident_Index                                     0\n",
       "Location_Easting_OSGR                             37\n",
       "Location_Northing_OSGR                            37\n",
       "Longitude                                         37\n",
       "Latitude                                          37\n",
       "Police_Force                                       0\n",
       "Accident_Severity                                  0\n",
       "Number_of_Vehicles                                 0\n",
       "Number_of_Casualties                               0\n",
       "Date                                               0\n",
       "Day_of_Week                                        0\n",
       "Time                                              22\n",
       "Local_Authority_(District)                         0\n",
       "Local_Authority_(Highway)                          0\n",
       "1st_Road_Class                                     0\n",
       "1st_Road_Number                                    0\n",
       "Road_Type                                          0\n",
       "Speed_limit                                        0\n",
       "Junction_Detail                                    1\n",
       "Junction_Control                               76678\n",
       "2nd_Road_Class                                 77383\n",
       "2nd_Road_Number                                  938\n",
       "Pedestrian_Crossing-Human_Control                167\n",
       "Pedestrian_Crossing-Physical_Facilities          155\n",
       "Light_Conditions                                   0\n",
       "Weather_Conditions                                 0\n",
       "Road_Surface_Conditions                          339\n",
       "Special_Conditions_at_Site                       125\n",
       "Carriageway_Hazards                              112\n",
       "Urban_or_Rural_Area                                0\n",
       "Did_Police_Officer_Attend_Scene_of_Accident       12\n",
       "LSOA_of_Accident_Location                      11513\n",
       "Vehicle_Reference                                  0\n",
       "Casualty_Reference                                 0\n",
       "Casualty_Class                                     0\n",
       "Sex_of_Casualty                                   61\n",
       "Age_of_Casualty                                 2994\n",
       "Age_Band_of_Casualty                            2994\n",
       "Casualty_Severity                                  0\n",
       "Pedestrian_Location                                2\n",
       "Pedestrian_Movement                                2\n",
       "Car_Passenger                                    376\n",
       "Bus_or_Coach_Passenger                            25\n",
       "Pedestrian_Road_Maintenance_Worker               153\n",
       "Casualty_Type                                      0\n",
       "Casualty_Home_Area_Type                        21157\n",
       "Casualty_IMD_Decile                            36756\n",
       "dtype: int64"
      ]
     },
     "execution_count": 11,
     "metadata": {},
     "output_type": "execute_result"
    }
   ],
   "source": [
    "df.isna().sum()"
   ]
  },
  {
   "cell_type": "code",
   "execution_count": 12,
   "metadata": {},
   "outputs": [],
   "source": [
    "numeric_df = df[df.select_dtypes('number').columns]\n",
    "means = numeric_df.mean(axis=0)"
   ]
  },
  {
   "cell_type": "code",
   "execution_count": 13,
   "metadata": {},
   "outputs": [
    {
     "data": {
      "text/plain": [
       "41"
      ]
     },
     "execution_count": 13,
     "metadata": {},
     "output_type": "execute_result"
    }
   ],
   "source": [
    "len(means)"
   ]
  },
  {
   "cell_type": "code",
   "execution_count": 14,
   "metadata": {},
   "outputs": [],
   "source": [
    "stds = numeric_df.std()\n",
    "zscores = (numeric_df - means) / stds"
   ]
  },
  {
   "cell_type": "code",
   "execution_count": 15,
   "metadata": {},
   "outputs": [
    {
     "data": {
      "text/plain": [
       "Accident_Index                                 140056\n",
       "Location_Easting_OSGR                           89880\n",
       "Location_Northing_OSGR                          93322\n",
       "Longitude                                      133316\n",
       "Latitude                                       131977\n",
       "Police_Force                                       51\n",
       "Accident_Severity                                   3\n",
       "Number_of_Vehicles                                 16\n",
       "Number_of_Casualties                               22\n",
       "Date                                              365\n",
       "Day_of_Week                                         7\n",
       "Time                                             1439\n",
       "Local_Authority_(District)                        380\n",
       "Local_Authority_(Highway)                         207\n",
       "1st_Road_Class                                      6\n",
       "1st_Road_Number                                  4340\n",
       "Road_Type                                           6\n",
       "Speed_limit                                         8\n",
       "Junction_Detail                                     9\n",
       "Junction_Control                                    4\n",
       "2nd_Road_Class                                      6\n",
       "2nd_Road_Number                                  3794\n",
       "Pedestrian_Crossing-Human_Control                   3\n",
       "Pedestrian_Crossing-Physical_Facilities             6\n",
       "Light_Conditions                                    5\n",
       "Weather_Conditions                                  9\n",
       "Road_Surface_Conditions                             5\n",
       "Special_Conditions_at_Site                          8\n",
       "Carriageway_Hazards                                 6\n",
       "Urban_or_Rural_Area                                 2\n",
       "Did_Police_Officer_Attend_Scene_of_Accident         3\n",
       "LSOA_of_Accident_Location                       28737\n",
       "Vehicle_Reference                                  28\n",
       "Casualty_Reference                                 38\n",
       "Casualty_Class                                      3\n",
       "Sex_of_Casualty                                     2\n",
       "Age_of_Casualty                                   101\n",
       "Age_Band_of_Casualty                               11\n",
       "Casualty_Severity                                   3\n",
       "Pedestrian_Location                                11\n",
       "Pedestrian_Movement                                10\n",
       "Car_Passenger                                       3\n",
       "Bus_or_Coach_Passenger                              5\n",
       "Pedestrian_Road_Maintenance_Worker                  3\n",
       "Casualty_Type                                      21\n",
       "Casualty_Home_Area_Type                             3\n",
       "Casualty_IMD_Decile                                10\n",
       "dtype: int64"
      ]
     },
     "execution_count": 15,
     "metadata": {},
     "output_type": "execute_result"
    }
   ],
   "source": [
    "df.nunique()"
   ]
  },
  {
   "cell_type": "code",
   "execution_count": 16,
   "metadata": {},
   "outputs": [
    {
     "data": {
      "text/plain": [
       "<matplotlib.axes._subplots.AxesSubplot at 0x1c153c814f0>"
      ]
     },
     "execution_count": 16,
     "metadata": {},
     "output_type": "execute_result"
    },
    {
     "data": {
      "image/png": "[encoded data removed]",
      "text/plain": [
       "<Figure size 432x288 with 1 Axes>"
      ]
     },
     "metadata": {
      "needs_background": "light"
     },
     "output_type": "display_data"
    }
   ],
   "source": [
    "zscores.iloc[:,0:10].boxplot(rot=90)"
   ]
  },
  {
   "cell_type": "code",
   "execution_count": 17,
   "metadata": {},
   "outputs": [
    {
     "data": {
      "text/plain": [
       "2     112996\n",
       "1      46933\n",
       "3      19154\n",
       "4       5040\n",
       "5       1412\n",
       "6        353\n",
       "7        145\n",
       "8         59\n",
       "37        36\n",
       "14        16\n",
       "9         14\n",
       "10        12\n",
       "13         7\n",
       "16         5\n",
       "12         4\n",
       "11         3\n",
       "Name: Number_of_Vehicles, dtype: int64"
      ]
     },
     "execution_count": 17,
     "metadata": {},
     "output_type": "execute_result"
    }
   ],
   "source": [
    "df['Number_of_Vehicles'].value_counts()"
   ]
  },
  {
   "cell_type": "code",
   "execution_count": 18,
   "metadata": {},
   "outputs": [],
   "source": [
    "df['flag'] = False\n",
    "df.loc[df['Number_of_Vehicles'] == 37, 'flag'] = True"
   ]
  },
  {
   "cell_type": "code",
   "execution_count": 19,
   "metadata": {},
   "outputs": [
    {
     "data": {
      "text/plain": [
       "1     109395\n",
       "2      42276\n",
       "3      18156\n",
       "4       8564\n",
       "5       4160\n",
       "6       1686\n",
       "7        756\n",
       "8        392\n",
       "9        198\n",
       "10       100\n",
       "11        77\n",
       "36        72\n",
       "16        64\n",
       "17        51\n",
       "38        38\n",
       "12        36\n",
       "35        35\n",
       "34        34\n",
       "14        28\n",
       "13        26\n",
       "24        24\n",
       "21        21\n",
       "Name: Number_of_Casualties, dtype: int64"
      ]
     },
     "execution_count": 19,
     "metadata": {},
     "output_type": "execute_result"
    }
   ],
   "source": [
    "df['Number_of_Casualties'].value_counts()"
   ]
  },
  {
   "cell_type": "code",
   "execution_count": 20,
   "metadata": {},
   "outputs": [
    {
     "data": {
      "text/plain": [
       "<matplotlib.axes._subplots.AxesSubplot at 0x1c153d47a60>"
      ]
     },
     "execution_count": 20,
     "metadata": {},
     "output_type": "execute_result"
    },
    {
     "data": {
      "image/png": "[encoded data removed]",
      "text/plain": [
       "<Figure size 432x288 with 1 Axes>"
      ]
     },
     "metadata": {
      "needs_background": "light"
     },
     "output_type": "display_data"
    }
   ],
   "source": [
    "zscores.iloc[:,10:20].boxplot(rot=90)"
   ]
  },
  {
   "cell_type": "code",
   "execution_count": 21,
   "metadata": {},
   "outputs": [
    {
     "data": {
      "text/plain": [
       "0.0    185170\n",
       "2.0       532\n",
       "1.0       320\n",
       "Name: Pedestrian_Crossing-Human_Control, dtype: int64"
      ]
     },
     "execution_count": 21,
     "metadata": {},
     "output_type": "execute_result"
    }
   ],
   "source": [
    "df['Pedestrian_Crossing-Human_Control'].value_counts()"
   ]
  },
  {
   "cell_type": "code",
   "execution_count": 22,
   "metadata": {},
   "outputs": [
    {
     "data": {
      "text/plain": [
       "0.0    152716\n",
       "5.0     14085\n",
       "4.0      9593\n",
       "1.0      5082\n",
       "8.0      4036\n",
       "7.0       522\n",
       "Name: Pedestrian_Crossing-Physical_Facilities, dtype: int64"
      ]
     },
     "execution_count": 22,
     "metadata": {},
     "output_type": "execute_result"
    }
   ],
   "source": [
    "df['Pedestrian_Crossing-Physical_Facilities'].value_counts()"
   ]
  },
  {
   "cell_type": "code",
   "execution_count": 23,
   "metadata": {},
   "outputs": [
    {
     "data": {
      "text/plain": [
       "<matplotlib.axes._subplots.AxesSubplot at 0x1c153dc4490>"
      ]
     },
     "execution_count": 23,
     "metadata": {},
     "output_type": "execute_result"
    },
    {
     "data": {
      "image/png": "[encoded data removed]",
      "text/plain": [
       "<Figure size 432x288 with 1 Axes>"
      ]
     },
     "metadata": {
      "needs_background": "light"
     },
     "output_type": "display_data"
    }
   ],
   "source": [
    "zscores.iloc[:,20:30].boxplot(rot=90)"
   ]
  },
  {
   "cell_type": "code",
   "execution_count": 24,
   "metadata": {},
   "outputs": [
    {
     "data": {
      "text/plain": [
       "<matplotlib.axes._subplots.AxesSubplot at 0x1c1544b1a60>"
      ]
     },
     "execution_count": 24,
     "metadata": {},
     "output_type": "execute_result"
    },
    {
     "data": {
      "image/png": "[encoded data removed]",
      "text/plain": [
       "<Figure size 432x288 with 1 Axes>"
      ]
     },
     "metadata": {
      "needs_background": "light"
     },
     "output_type": "display_data"
    }
   ],
   "source": [
    "zscores.iloc[:,30:].boxplot(rot=90)"
   ]
  },
  {
   "cell_type": "code",
   "execution_count": 29,
   "metadata": {},
   "outputs": [
    {
     "data": {
      "text/plain": [
       "<matplotlib.axes._subplots.AxesSubplot at 0x1c154087b20>"
      ]
     },
     "execution_count": 29,
     "metadata": {},
     "output_type": "execute_result"
    },
    {
     "data": {
      "image/png": "[encoded data removed]",
      "text/plain": [
       "<Figure size 432x288 with 1 Axes>"
      ]
     },
     "metadata": {
      "needs_background": "light"
     },
     "output_type": "display_data"
    }
   ],
   "source": [
    "df['Age_of_Casualty'].hist()"
   ]
  },
  {
   "cell_type": "code",
   "execution_count": 47,
   "metadata": {},
   "outputs": [
    {
     "data": {
      "text/plain": [
       "9     108248\n",
       "0      24061\n",
       "1      18844\n",
       "3       8672\n",
       "5       6907\n",
       "19      4750\n",
       "11      4626\n",
       "8       3000\n",
       "4       2054\n",
       "2       2054\n",
       "21       792\n",
       "90       600\n",
       "10       459\n",
       "20       411\n",
       "97       222\n",
       "22       174\n",
       "98       120\n",
       "16        94\n",
       "17        86\n",
       "23         9\n",
       "18         6\n",
       "Name: Casualty_Type, dtype: int64"
      ]
     },
     "execution_count": 47,
     "metadata": {},
     "output_type": "execute_result"
    }
   ],
   "source": [
    "df['Casualty_Type'].value_counts()"
   ]
  },
  {
   "cell_type": "code",
   "execution_count": 51,
   "metadata": {},
   "outputs": [
    {
     "data": {
      "text/plain": [
       "Severe    155174\n",
       "Medium     28175\n",
       "Minor       2840\n",
       "Name: Accident_Severity, dtype: int64"
      ]
     },
     "metadata": {},
     "output_type": "display_data"
    },
    {
     "data": {
      "text/plain": [
       "6    29677\n",
       "5    28002\n",
       "3    27592\n",
       "4    27572\n",
       "2    26529\n",
       "7    25309\n",
       "1    21508\n",
       "Name: Day_of_Week, dtype: int64"
      ]
     },
     "metadata": {},
     "output_type": "display_data"
    },
    {
     "data": {
      "text/plain": [
       "3    87207\n",
       "6    52621\n",
       "4    23000\n",
       "5    14296\n",
       "1     8407\n",
       "2      658\n",
       "Name: 1st_Road_Class, dtype: int64"
      ]
     },
     "metadata": {},
     "output_type": "display_data"
    },
    {
     "data": {
      "text/plain": [
       "6    137877\n",
       "3     30008\n",
       "1     11845\n",
       "2      3436\n",
       "7      2036\n",
       "9       987\n",
       "Name: Road_Type, dtype: int64"
      ]
     },
     "metadata": {},
     "output_type": "display_data"
    },
    {
     "data": {
      "text/plain": [
       "30    112027\n",
       "60     28608\n",
       "40     16858\n",
       "70     15209\n",
       "50      8406\n",
       "20      5078\n",
       "10         2\n",
       "0          1\n",
       "Name: Speed_limit, dtype: int64"
      ]
     },
     "metadata": {},
     "output_type": "display_data"
    },
    {
     "data": {
      "text/plain": [
       "0.0    76485\n",
       "3.0    57561\n",
       "6.0    19081\n",
       "1.0    15492\n",
       "8.0     6846\n",
       "9.0     4048\n",
       "5.0     2963\n",
       "2.0     2349\n",
       "7.0     1363\n",
       "Name: Junction_Detail, dtype: int64"
      ]
     },
     "metadata": {},
     "output_type": "display_data"
    },
    {
     "data": {
      "text/plain": [
       "4.0    89001\n",
       "2.0    19299\n",
       "3.0      997\n",
       "1.0      214\n",
       "Name: Junction_Control, dtype: int64"
      ]
     },
     "metadata": {},
     "output_type": "display_data"
    },
    {
     "data": {
      "text/plain": [
       "6.0    74176\n",
       "3.0    17800\n",
       "5.0     8063\n",
       "4.0     7424\n",
       "1.0     1200\n",
       "2.0      143\n",
       "Name: 2nd_Road_Class, dtype: int64"
      ]
     },
     "metadata": {},
     "output_type": "display_data"
    },
    {
     "data": {
      "text/plain": [
       "0.0    185170\n",
       "2.0       532\n",
       "1.0       320\n",
       "Name: Pedestrian_Crossing-Human_Control, dtype: int64"
      ]
     },
     "metadata": {},
     "output_type": "display_data"
    },
    {
     "data": {
      "text/plain": [
       "0.0    152716\n",
       "5.0     14085\n",
       "4.0      9593\n",
       "1.0      5082\n",
       "8.0      4036\n",
       "7.0       522\n",
       "Name: Pedestrian_Crossing-Physical_Facilities, dtype: int64"
      ]
     },
     "metadata": {},
     "output_type": "display_data"
    },
    {
     "data": {
      "text/plain": [
       "1    135501\n",
       "4     36428\n",
       "6     10897\n",
       "7      2386\n",
       "5       977\n",
       "Name: Light_Conditions, dtype: int64"
      ]
     },
     "metadata": {},
     "output_type": "display_data"
    },
    {
     "data": {
      "text/plain": [
       "1    151009\n",
       "2     21165\n",
       "5      3221\n",
       "4      3205\n",
       "9      3000\n",
       "8      2613\n",
       "7       980\n",
       "3       739\n",
       "6       257\n",
       "Name: Weather_Conditions, dtype: int64"
      ]
     },
     "metadata": {},
     "output_type": "display_data"
    },
    {
     "data": {
      "text/plain": [
       "1.0    133485\n",
       "2.0     49440\n",
       "4.0      1916\n",
       "3.0       741\n",
       "5.0       268\n",
       "Name: Road_Surface_Conditions, dtype: int64"
      ]
     },
     "metadata": {},
     "output_type": "display_data"
    },
    {
     "data": {
      "text/plain": [
       "0.0    181616\n",
       "4.0      2321\n",
       "7.0       565\n",
       "6.0       533\n",
       "5.0       396\n",
       "1.0       305\n",
       "3.0       245\n",
       "2.0        83\n",
       "Name: Special_Conditions_at_Site, dtype: int64"
      ]
     },
     "metadata": {},
     "output_type": "display_data"
    },
    {
     "data": {
      "text/plain": [
       "0.0    182998\n",
       "2.0      1239\n",
       "7.0       820\n",
       "3.0       407\n",
       "6.0       389\n",
       "1.0       224\n",
       "Name: Carriageway_Hazards, dtype: int64"
      ]
     },
     "metadata": {},
     "output_type": "display_data"
    },
    {
     "data": {
      "text/plain": [
       "1    116033\n",
       "2     70156\n",
       "Name: Urban_or_Rural_Area, dtype: int64"
      ]
     },
     "metadata": {},
     "output_type": "display_data"
    },
    {
     "data": {
      "text/plain": [
       "1.0    154359\n",
       "2.0     31382\n",
       "3.0       436\n",
       "Name: Did_Police_Officer_Attend_Scene_of_Accident, dtype: int64"
      ]
     },
     "metadata": {},
     "output_type": "display_data"
    },
    {
     "data": {
      "text/plain": [
       "1    120430\n",
       "2     41698\n",
       "3     24061\n",
       "Name: Casualty_Class, dtype: int64"
      ]
     },
     "metadata": {},
     "output_type": "display_data"
    },
    {
     "data": {
      "text/plain": [
       "1.0    110299\n",
       "2.0     75829\n",
       "Name: Sex_of_Casualty, dtype: int64"
      ]
     },
     "metadata": {},
     "output_type": "display_data"
    },
    {
     "data": {
      "text/plain": [
       "3    162315\n",
       "2     22144\n",
       "1      1730\n",
       "Name: Casualty_Severity, dtype: int64"
      ]
     },
     "metadata": {},
     "output_type": "display_data"
    },
    {
     "data": {
      "text/plain": [
       "0.0    150544\n",
       "1.0     22493\n",
       "2.0     12776\n",
       "Name: Car_Passenger, dtype: int64"
      ]
     },
     "metadata": {},
     "output_type": "display_data"
    },
    {
     "data": {
      "text/plain": [
       "0.0    181929\n",
       "4.0      2642\n",
       "3.0      1226\n",
       "1.0       184\n",
       "2.0       183\n",
       "Name: Bus_or_Coach_Passenger, dtype: int64"
      ]
     },
     "metadata": {},
     "output_type": "display_data"
    },
    {
     "data": {
      "text/plain": [
       "0.0    180307\n",
       "2.0      5668\n",
       "1.0        61\n",
       "Name: Pedestrian_Road_Maintenance_Worker, dtype: int64"
      ]
     },
     "metadata": {},
     "output_type": "display_data"
    },
    {
     "data": {
      "text/plain": [
       "1.0    132326\n",
       "3.0     18107\n",
       "2.0     14599\n",
       "Name: Casualty_Home_Area_Type, dtype: int64"
      ]
     },
     "metadata": {},
     "output_type": "display_data"
    },
    {
     "data": {
      "text/plain": [
       "False    186153\n",
       "True         36\n",
       "Name: flag, dtype: int64"
      ]
     },
     "metadata": {},
     "output_type": "display_data"
    }
   ],
   "source": [
    "for col in df.columns:\n",
    "    if df[col].nunique() < 10:\n",
    "        display(df[col].value_counts())"
   ]
  },
  {
   "cell_type": "code",
   "execution_count": 53,
   "metadata": {},
   "outputs": [],
   "source": [
    "df.loc[df['Speed_limit'] == 0, 'flag'] = True\n",
    "df.loc[df['Speed_limit'] == 10, 'flag'] = True"
   ]
  },
  {
   "cell_type": "code",
   "execution_count": 54,
   "metadata": {},
   "outputs": [
    {
     "data": {
      "text/plain": [
       "False    186150\n",
       "True         39\n",
       "Name: flag, dtype: int64"
      ]
     },
     "execution_count": 54,
     "metadata": {},
     "output_type": "execute_result"
    }
   ],
   "source": [
    "df['flag'].value_counts()"
   ]
  },
  {
   "cell_type": "code",
   "execution_count": 57,
   "metadata": {},
   "outputs": [],
   "source": [
    "df.drop(df[df.flag].index, inplace=True)"
   ]
  },
  {
   "cell_type": "code",
   "execution_count": 58,
   "metadata": {},
   "outputs": [
    {
     "data": {
      "text/plain": [
       "False    186150\n",
       "Name: flag, dtype: int64"
      ]
     },
     "execution_count": 58,
     "metadata": {},
     "output_type": "execute_result"
    }
   ],
   "source": [
    "df['flag'].value_counts()"
   ]
  },
  {
   "cell_type": "code",
   "execution_count": 60,
   "metadata": {},
   "outputs": [],
   "source": [
    "text_df = df[df.select_dtypes('object').columns]"
   ]
  },
  {
   "cell_type": "code",
   "execution_count": 61,
   "metadata": {},
   "outputs": [
    {
     "data": {
      "text/html": [
       "<div>\n",
       "<style scoped>\n",
       "    .dataframe tbody tr th:only-of-type {\n",
       "        vertical-align: middle;\n",
       "    }\n",
       "\n",
       "    .dataframe tbody tr th {\n",
       "        vertical-align: top;\n",
       "    }\n",
       "\n",
       "    .dataframe thead th {\n",
       "        text-align: right;\n",
       "    }\n",
       "</style>\n",
       "<table border=\"1\" class=\"dataframe\">\n",
       "  <thead>\n",
       "    <tr style=\"text-align: right;\">\n",
       "      <th></th>\n",
       "      <th>Accident_Index</th>\n",
       "      <th>Accident_Severity</th>\n",
       "      <th>Date</th>\n",
       "      <th>Time</th>\n",
       "      <th>Local_Authority_(Highway)</th>\n",
       "      <th>LSOA_of_Accident_Location</th>\n",
       "    </tr>\n",
       "  </thead>\n",
       "  <tbody>\n",
       "    <tr>\n",
       "      <th>0</th>\n",
       "      <td>201501BS70001</td>\n",
       "      <td>Severe</td>\n",
       "      <td>12/01/2015</td>\n",
       "      <td>18:45</td>\n",
       "      <td>E09000020</td>\n",
       "      <td>E01002825</td>\n",
       "    </tr>\n",
       "    <tr>\n",
       "      <th>1</th>\n",
       "      <td>201501BS70002</td>\n",
       "      <td>Severe</td>\n",
       "      <td>12/01/2015</td>\n",
       "      <td>07:50</td>\n",
       "      <td>E09000020</td>\n",
       "      <td>E01002820</td>\n",
       "    </tr>\n",
       "    <tr>\n",
       "      <th>2</th>\n",
       "      <td>201501BS70004</td>\n",
       "      <td>Severe</td>\n",
       "      <td>12/01/2015</td>\n",
       "      <td>18:08</td>\n",
       "      <td>E09000020</td>\n",
       "      <td>E01002833</td>\n",
       "    </tr>\n",
       "    <tr>\n",
       "      <th>3</th>\n",
       "      <td>201501BS70005</td>\n",
       "      <td>Severe</td>\n",
       "      <td>13/01/2015</td>\n",
       "      <td>07:40</td>\n",
       "      <td>E09000020</td>\n",
       "      <td>E01002874</td>\n",
       "    </tr>\n",
       "    <tr>\n",
       "      <th>4</th>\n",
       "      <td>201501BS70008</td>\n",
       "      <td>Medium</td>\n",
       "      <td>09/01/2015</td>\n",
       "      <td>07:30</td>\n",
       "      <td>E09000020</td>\n",
       "      <td>E01002814</td>\n",
       "    </tr>\n",
       "    <tr>\n",
       "      <th>...</th>\n",
       "      <td>...</td>\n",
       "      <td>...</td>\n",
       "      <td>...</td>\n",
       "      <td>...</td>\n",
       "      <td>...</td>\n",
       "      <td>...</td>\n",
       "    </tr>\n",
       "    <tr>\n",
       "      <th>186184</th>\n",
       "      <td>2015984141415</td>\n",
       "      <td>Severe</td>\n",
       "      <td>31/12/2015</td>\n",
       "      <td>16:37</td>\n",
       "      <td>S12000006</td>\n",
       "      <td>NaN</td>\n",
       "    </tr>\n",
       "    <tr>\n",
       "      <th>186185</th>\n",
       "      <td>2015984141415</td>\n",
       "      <td>Severe</td>\n",
       "      <td>31/12/2015</td>\n",
       "      <td>16:37</td>\n",
       "      <td>S12000006</td>\n",
       "      <td>NaN</td>\n",
       "    </tr>\n",
       "    <tr>\n",
       "      <th>186186</th>\n",
       "      <td>2015984141415</td>\n",
       "      <td>Severe</td>\n",
       "      <td>31/12/2015</td>\n",
       "      <td>16:37</td>\n",
       "      <td>S12000006</td>\n",
       "      <td>NaN</td>\n",
       "    </tr>\n",
       "    <tr>\n",
       "      <th>186187</th>\n",
       "      <td>2015984141415</td>\n",
       "      <td>Severe</td>\n",
       "      <td>31/12/2015</td>\n",
       "      <td>16:37</td>\n",
       "      <td>S12000006</td>\n",
       "      <td>NaN</td>\n",
       "    </tr>\n",
       "    <tr>\n",
       "      <th>186188</th>\n",
       "      <td>2015984141415</td>\n",
       "      <td>Severe</td>\n",
       "      <td>31/12/2015</td>\n",
       "      <td>16:37</td>\n",
       "      <td>S12000006</td>\n",
       "      <td>NaN</td>\n",
       "    </tr>\n",
       "  </tbody>\n",
       "</table>\n",
       "<p>186150 rows × 6 columns</p>\n",
       "</div>"
      ],
      "text/plain": [
       "       Accident_Index Accident_Severity        Date   Time  \\\n",
       "0       201501BS70001            Severe  12/01/2015  18:45   \n",
       "1       201501BS70002            Severe  12/01/2015  07:50   \n",
       "2       201501BS70004            Severe  12/01/2015  18:08   \n",
       "3       201501BS70005            Severe  13/01/2015  07:40   \n",
       "4       201501BS70008            Medium  09/01/2015  07:30   \n",
       "...               ...               ...         ...    ...   \n",
       "186184  2015984141415            Severe  31/12/2015  16:37   \n",
       "186185  2015984141415            Severe  31/12/2015  16:37   \n",
       "186186  2015984141415            Severe  31/12/2015  16:37   \n",
       "186187  2015984141415            Severe  31/12/2015  16:37   \n",
       "186188  2015984141415            Severe  31/12/2015  16:37   \n",
       "\n",
       "       Local_Authority_(Highway) LSOA_of_Accident_Location  \n",
       "0                      E09000020                 E01002825  \n",
       "1                      E09000020                 E01002820  \n",
       "2                      E09000020                 E01002833  \n",
       "3                      E09000020                 E01002874  \n",
       "4                      E09000020                 E01002814  \n",
       "...                          ...                       ...  \n",
       "186184                 S12000006                       NaN  \n",
       "186185                 S12000006                       NaN  \n",
       "186186                 S12000006                       NaN  \n",
       "186187                 S12000006                       NaN  \n",
       "186188                 S12000006                       NaN  \n",
       "\n",
       "[186150 rows x 6 columns]"
      ]
     },
     "execution_count": 61,
     "metadata": {},
     "output_type": "execute_result"
    }
   ],
   "source": [
    "text_df"
   ]
  },
  {
   "cell_type": "code",
   "execution_count": null,
   "metadata": {},
   "outputs": [],
   "source": []
  }
 ],
 "metadata": {
  "kernelspec": {
   "display_name": "Python 3",
   "language": "python",
   "name": "python3"
  },
  "language_info": {
   "codemirror_mode": {
    "name": "ipython",
    "version": 3
   },
   "file_extension": ".py",
   "mimetype": "text/x-python",
   "name": "python",
   "nbconvert_exporter": "python",
   "pygments_lexer": "ipython3",
   "version": "3.8.3"
  }
 },
 "nbformat": 4,
 "nbformat_minor": 4
}
