{
 "cells": [
  {
   "cell_type": "code",
   "execution_count": 1,
   "metadata": {},
   "outputs": [],
   "source": [
    "from fractions import Fraction\n",
    "from collections import Counter\n",
    "import numpy as np\n",
    "import pandas as pd\n",
    "import string\n",
    "from nltk.metrics import distance"
   ]
  },
  {
   "cell_type": "code",
   "execution_count": null,
   "metadata": {},
   "outputs": [],
   "source": [
    "pip install pyjarowinkler"
   ]
  },
  {
   "cell_type": "code",
   "execution_count": null,
   "metadata": {},
   "outputs": [],
   "source": [
    "from pyjarowinkler import distance\n",
    "\n",
    "t1='duane'\n",
    "t2='dwayne'\n",
    "\n",
    "print(distance.get_jaro_distance(t1,t2))"
   ]
  },
  {
   "cell_type": "code",
   "execution_count": null,
   "metadata": {},
   "outputs": [],
   "source": [
    "pip install edit-distance"
   ]
  },
  {
   "cell_type": "code",
   "execution_count": 2,
   "metadata": {},
   "outputs": [
    {
     "name": "stdout",
     "output_type": "stream",
     "text": [
      "1/3\n",
      "2/5\n",
      "1/6\n"
     ]
    }
   ],
   "source": [
    "#Q1\n",
    "#Jaccard Similarity of sets S and T: |S ⋂ T|/|S ⋃ T|\n",
    "\n",
    "A = {1,2,3,4}\n",
    "B = {2,3,5,7}\n",
    "C = {2,4,6}\n",
    "\n",
    "#By hand\n",
    "#SIM(A,B) = |A ⋂ B|/|A ⋃ B| = |{2,3}|/{1,2,3,4,5,7} = 1/3\n",
    "#SIM(A,C) = |A ⋂ C|/|A ⋃ C| = |{2,4}|/|{1,2,3,4,6}| = 2/5\n",
    "#SIM(B,C) = |B ⋂ C|/|B ⋃ C| = |{2}|/|{2,3,4,5,6,7}| = 1/6\n",
    "\n",
    "def jaccard_sim(set_1, set_2):\n",
    "    return Fraction(len(set_1.intersection(set_2)) / len(set_1.union(set_2))).limit_denominator()\n",
    "\n",
    "print(jaccard_sim(A,B))\n",
    "print(jaccard_sim(A,C))\n",
    "print(jaccard_sim(B,C))"
   ]
  },
  {
   "cell_type": "code",
   "execution_count": 3,
   "metadata": {},
   "outputs": [
    {
     "name": "stdout",
     "output_type": "stream",
     "text": [
      "1/3\n",
      "1/4\n",
      "1/3\n"
     ]
    }
   ],
   "source": [
    "#Q2\n",
    "#The Jaccard similarity for bags B and C is defined by counting an element n times\n",
    "#in the intersection if n is the minimum of the number of times the element appears in B and C.\n",
    "#In the union, we count the element the sum of the number of times it appears in B and in C.\n",
    "\n",
    "#Using lists as a workaround instead of another data structure to represent bag\n",
    "A = [1,1,1,2]\n",
    "B = [1,1,2,2,3]\n",
    "C = [1,2,3,4]\n",
    "\n",
    "#By hand\n",
    "#SIM(A,B) = |A ⋂ B|/|A ⋃ B| = 2+1/9 = 1/3\n",
    "#SIM(A,C) = |A ⋂ C|/|A ⋃ C| = 1+1/8 = 1/4\n",
    "#SIM(B,C) = |B ⋂ C|/|B ⋃ C| = 1+1+1/9 = 1/3\n",
    "\n",
    "def jaccard_sim_bag(bag_1, bag_2):\n",
    "    numerator = sum((Counter(bag_1) & Counter(bag_2)).values())\n",
    "    denominator = len(bag_1) + len(bag_2)\n",
    "    return Fraction(numerator/denominator).limit_denominator()\n",
    "\n",
    "print(jaccard_sim_bag(A,B))\n",
    "print(jaccard_sim_bag(A,C))\n",
    "print(jaccard_sim_bag(B,C))"
   ]
  },
  {
   "cell_type": "code",
   "execution_count": 4,
   "metadata": {},
   "outputs": [
    {
     "name": "stdout",
     "output_type": "stream",
     "text": [
      "    D1  D2  D3\n",
      "aa   1   1   0\n",
      "ab   1   0   1\n",
      "ac   0   1   0\n",
      "ba   1   1   1\n",
      "bb   1   0   0\n",
      "ca   0   1   1\n"
     ]
    }
   ],
   "source": [
    "#Q3\n",
    "\n",
    "shingles = ['aa', 'ab', 'ac', 'ba', 'bb', 'ca']\n",
    "columns = ['D1', 'D2', 'D3']\n",
    "matrix = np.array([[1,1,0],\n",
    "                  [1,0,1],\n",
    "                  [0,1,0],\n",
    "                  [1,1,1],\n",
    "                  [1,0,0],\n",
    "                  [0,1,1]])\n",
    "df = pd.DataFrame(data=matrix, index=shingles, columns=columns)\n",
    "print(df)"
   ]
  },
  {
   "cell_type": "code",
   "execution_count": 5,
   "metadata": {},
   "outputs": [],
   "source": [
    "#Q4 (from https://medium.com/virtuoso-blog/what-is-the-linked-open-data-cloud-and-why-is-it-important-1901a7cb7b1f)\n",
    "\n",
    "#The LOD Cloud is a Knowledge Graph that manifests as a Semantic Web of Linked Data. It is the natural product of several ingredients:\n",
    "# - Open Standards — such as URI, URL, HTTP, HTML, RDF, RDF-Turtle (and other RDF Notations), the SPARQL Query Language, the SPARQL Protocol, and SPARQL Query Solution Document Types\n",
    "# - Myriad amateur and professional Data Curators across industry and academia\n",
    "# - A modern DBMS platform — Virtuoso from OpenLink Software\n",
    "# - Seed Databases — initially, DBpedia and Bio2RDF formed the core; more recently, significant contributions have come from the Wikidata project and the Schema.org-dominated SEO and SSEO axis supported by Search Engine vendors (Google, Bing!, Yandex, and others) — provided master data from which other clouds (and sub-clouds) have been spawned"
   ]
  },
  {
   "cell_type": "code",
   "execution_count": 3,
   "metadata": {},
   "outputs": [
    {
     "name": "stdout",
     "output_type": "stream",
     "text": [
      "Jaro Similarity: 0.6\n",
      "Jaro-Winkler Similarity: 0.6\n"
     ]
    }
   ],
   "source": [
    "#Q5 - \n",
    "\n",
    "string_1 = 'arnab'\n",
    "string_2 = 'urban'\n",
    "\n",
    "#a Jaro\n",
    "\n",
    "#c=4\n",
    "#t=2/2\n",
    "\n",
    "#jaro = 1/3*(4/5 + 4/5 + 3/4) = 0.78333\n",
    "#jaro = 1/3*(c/|s1| + c/|s2| + (c-t)/c)\n",
    "\n",
    "#b Jaro_Winkler\n",
    "\n",
    "#jaro + p * l * (1 - jaro)\n",
    "#0.78333 + 0.1*0 * (1 - 0.78333) = 0.78333\n",
    "\n",
    "#Because there's no common prefix\n",
    "\n",
    "print(f'Jaro Similarity (NLTK): {distance.jaro_similarity(string_1, string_2)}')\n",
    "print(f'Jaro-Winkler Similarity (NLTK): {distance.jaro_winkler_similarity(string_1, string_2)}')"
   ]
  },
  {
   "cell_type": "code",
   "execution_count": 7,
   "metadata": {},
   "outputs": [
    {
     "name": "stdout",
     "output_type": "stream",
     "text": [
      "Edit Distance: (Substitution Cost = 1): 4\n",
      "Edit Distance: (Substitution Cost = 2): 6\n"
     ]
    }
   ],
   "source": [
    "#Q6\n",
    "\n",
    "string_1 = 'Recreation'\n",
    "string_2 = 'Regeneration'\n",
    "\n",
    "#Delete r and n from 2 (2*1)\n",
    "#Substitute g an e from 2 (2*1)\n",
    "# (2*1)+(2*1)=4\n",
    "\n",
    "print(f'Edit Distance: (Substitution Cost = 1): {distance.edit_distance(string_1, string_2)}')\n",
    "\n",
    "#Delete r and n from 2 (2*1)\n",
    "#Substitute g an e from 2 (2*2)\n",
    "# (2*1)+(2*2)=6\n",
    "\n",
    "print(f'Edit Distance: (Substitution Cost = 2): {distance.edit_distance(string_1, string_2, substitution_cost=2)}')"
   ]
  },
  {
   "cell_type": "code",
   "execution_count": 8,
   "metadata": {},
   "outputs": [
    {
     "name": "stdout",
     "output_type": "stream",
     "text": [
      "Gap Distance: 7.8\n"
     ]
    }
   ],
   "source": [
    "#Q7\n",
    "\n",
    "string_1 = 'Journal of Knowledge and Data Engineering'\n",
    "string_2 = 'J. of Knowl. and Data Eng.'\n",
    "\n",
    "o = 1\n",
    "e = 0.1\n",
    "\n",
    "gap_1 = 1 + o + 6*e\n",
    "gap_2 = 1 + o + 4*e\n",
    "gap_3 = 1 + o + 8*e\n",
    "\n",
    "gap_dist = gap_1 + gap_2 + gap_3\n",
    "print(f'Gap Distance: {gap_dist}')"
   ]
  },
  {
   "cell_type": "code",
   "execution_count": 4,
   "metadata": {},
   "outputs": [
    {
     "name": "stdout",
     "output_type": "stream",
     "text": [
      "53\n",
      "{'eed an', ' effic', 'techni', 'need a', 'ey mat', 't tech', 'icient', 'rds if', 'ique t', 'n effi', 'oup re', 'chniqu', ' an ef', ' they ', 'cords ', 'to gro', 'they m', ' techn', 'if the', 'ecords', 'echniq', 'record', 'fficie', ' recor', ' if th', 'f they', 'up rec', 'group ', 'hey ma', 'y matc', 'que to', 'ords i', 'effici', 'ds if ', 'o grou', ' group', 'ent te', 's if t', 'nt tec', 'hnique', 'ient t', ' match', 'an eff', 'ficien', 'e to g', 'ue to ', 'ed an ', 'p reco', 'd an e', 'nique ', ' to gr', 'cient ', 'roup r'}\n",
      "53\n"
     ]
    }
   ],
   "source": [
    "#Q8\n",
    "\n",
    "string_1 = 'need an efficient technique to group records if they match'\n",
    "n = len(string_1)\n",
    "k=6\n",
    "\n",
    "print(n-k+1) #this only holds if every shingle is unique!\n",
    "\n",
    "def kshingles(s, k=k):\n",
    "    return {s[i:i+k] for i in range(len(s)-k+1)}\n",
    "\n",
    "result = kshingles(string_1)\n",
    "print(result) #A set is unordered\n",
    "print(len(result))"
   ]
  },
  {
   "cell_type": "code",
   "execution_count": 10,
   "metadata": {},
   "outputs": [
    {
     "name": "stdout",
     "output_type": "stream",
     "text": [
      "Edit Distance: 3\n"
     ]
    }
   ],
   "source": [
    "#Q9 - I only did edit distance since the ambiguity regarding Jaro..\n",
    "\n",
    "string_1 = 'Journal'\n",
    "string_2 = 'Formal'\n",
    "\n",
    "#1 Edit Distance\n",
    "\n",
    "print(f'Edit Distance: {distance.edit_distance(string_1, string_2)}')\n",
    "\n",
    "#2\n",
    "\n",
    "#Jaro\n",
    "\n",
    "#3\n",
    "\n",
    "#Jaro Winkler"
   ]
  },
  {
   "cell_type": "code",
   "execution_count": 11,
   "metadata": {},
   "outputs": [
    {
     "name": "stdout",
     "output_type": "stream",
     "text": [
      "    D1  D2  D3  h1  h2  h3\n",
      "aa   1   1   0   1   6   3\n",
      "ab   1   0   1   5   3   6\n",
      "ac   0   1   0   2   4   2\n",
      "ba   1   1   1   4   2   4\n",
      "bb   1   0   0   3   5   5\n",
      "ca   0   1   1   6   1   1\n"
     ]
    }
   ],
   "source": [
    "#Q10 - This is the books method.. takes a lil longer\n",
    "\n",
    "#a\n",
    "df['h1'] = [1,5,2,4,3,6]\n",
    "df['h2'] = [6,3,4,2,5,1]\n",
    "df['h3'] = [3,6,2,4,5,1]\n",
    "print(df)"
   ]
  },
  {
   "cell_type": "code",
   "execution_count": 21,
   "metadata": {},
   "outputs": [
    {
     "name": "stdout",
     "output_type": "stream",
     "text": [
      "     D1   D2   D3\n",
      "h1  inf  inf  inf\n",
      "h2  inf  inf  inf\n",
      "h3  inf  inf  inf\n"
     ]
    }
   ],
   "source": [
    "sig_df = pd.DataFrame(data=np.ones((3,3))*np.inf, index=['h1', 'h2', 'h3'], columns=['D1', 'D2', 'D3'])\n",
    "print(sig_df)"
   ]
  },
  {
   "cell_type": "code",
   "execution_count": 22,
   "metadata": {},
   "outputs": [
    {
     "name": "stdout",
     "output_type": "stream",
     "text": [
      "     D1   D2   D3\n",
      "h1  1.0  1.0  inf\n",
      "h2  6.0  6.0  inf\n",
      "h3  3.0  3.0  inf\n"
     ]
    }
   ],
   "source": [
    "#For Row 1, D1 and D2 have 1, h1(1) = 1, h2(1) = 6, h3(1) = 3\n",
    "#Since these are all < current, so we'll change\n",
    "\n",
    "sig_df.iloc[0,0] = 1\n",
    "sig_df.iloc[1,0] = 6\n",
    "sig_df.iloc[2,0] = 3\n",
    "\n",
    "sig_df.iloc[0,1] = 1\n",
    "sig_df.iloc[1,1] = 6\n",
    "sig_df.iloc[2,1] = 3\n",
    "\n",
    "print(sig_df)"
   ]
  },
  {
   "cell_type": "code",
   "execution_count": 23,
   "metadata": {},
   "outputs": [
    {
     "name": "stdout",
     "output_type": "stream",
     "text": [
      "     D1   D2   D3\n",
      "h1  1.0  1.0  5.0\n",
      "h2  3.0  6.0  3.0\n",
      "h3  3.0  3.0  6.0\n"
     ]
    }
   ],
   "source": [
    "#For Row 2, D1 and D3 have 1, h1(2) = 5, h2(2) = 3, h3(2) = 6\n",
    "#For D1, h2 < current h2, so we'll change\n",
    "#For D3, these are all < current, so we'll change\n",
    "\n",
    "sig_df.iloc[1,0] = 3\n",
    "\n",
    "sig_df.iloc[0,2] = 5\n",
    "sig_df.iloc[1,2] = 3\n",
    "sig_df.iloc[2,2] = 6\n",
    "\n",
    "print(sig_df)"
   ]
  },
  {
   "cell_type": "code",
   "execution_count": 24,
   "metadata": {},
   "outputs": [
    {
     "name": "stdout",
     "output_type": "stream",
     "text": [
      "     D1   D2   D3\n",
      "h1  1.0  1.0  5.0\n",
      "h2  3.0  4.0  3.0\n",
      "h3  3.0  2.0  6.0\n"
     ]
    }
   ],
   "source": [
    "#For Row 3, D2 has 1, h1(3) = 2, h2(3) = 4, h3(3) = 2\n",
    "#For D2, h2 and h3 < current h2 and h3, so we'll change\n",
    "\n",
    "sig_df.iloc[1,1] = 4\n",
    "sig_df.iloc[2,1] = 2\n",
    "\n",
    "print(sig_df)"
   ]
  },
  {
   "cell_type": "code",
   "execution_count": 25,
   "metadata": {},
   "outputs": [
    {
     "name": "stdout",
     "output_type": "stream",
     "text": [
      "     D1   D2   D3\n",
      "h1  1.0  1.0  4.0\n",
      "h2  2.0  2.0  3.0\n",
      "h3  3.0  2.0  6.0\n"
     ]
    }
   ],
   "source": [
    "#For Row 4, D1, D2 and D3 have 1, h1(4) = 4, h2(4) = 2, h3(4) = 4\n",
    "#For D3 h1 < current h1, so we'll change\n",
    "#For D1 and D2, h2 < current h2, so we'll change\n",
    "\n",
    "sig_df.iloc[0,2] = 4\n",
    "sig_df.iloc[1,0] = 2\n",
    "sig_df.iloc[1,1] = 2\n",
    "\n",
    "print(sig_df)"
   ]
  },
  {
   "cell_type": "code",
   "execution_count": 26,
   "metadata": {},
   "outputs": [],
   "source": [
    "#For Row 5, D1 has 1, h1(5) = 3, h2(5) = 5, h3(5) = 5\n",
    "#For D1 all values > current, no change"
   ]
  },
  {
   "cell_type": "code",
   "execution_count": 27,
   "metadata": {},
   "outputs": [
    {
     "name": "stdout",
     "output_type": "stream",
     "text": [
      "     D1   D2   D3\n",
      "h1  1.0  1.0  4.0\n",
      "h2  2.0  1.0  1.0\n",
      "h3  3.0  1.0  1.0\n"
     ]
    }
   ],
   "source": [
    "#For Row 6, D2 and D3 have 1, h1(6) = 6, h2(6) = 1, h3(6) = 1\n",
    "#For D2 and D3, h2 and h3 < current h2 and h3, so we'll change\n",
    "\n",
    "sig_df.iloc[1,1] = 1\n",
    "sig_df.iloc[2,1] = 1\n",
    "sig_df.iloc[1,2] = 1\n",
    "sig_df.iloc[2,2] = 1\n",
    "\n",
    "print(sig_df)"
   ]
  },
  {
   "cell_type": "code",
   "execution_count": null,
   "metadata": {},
   "outputs": [],
   "source": [
    "# The faster option is as follows\n",
    "# Start with h1 (1-6), when h1=1, D1,D2=1, so in sig matrix D1,D2 = 1 for h1\n",
    "#                      when h1=2, D2=1, already have, skip\n",
    "#                      when h1=3, D1=1, already have, skip\n",
    "#                      when h1=4, D3=4, so in sig matrix D3=4 for h1\n",
    "# Start with h2,       when h2=1, D2,D3=1, so in sig matrix D2,D3 = 1 for h2\n",
    "#                      when h2=2, D1,D2,D3=1 so in sig matrix D1=2 for h2\n",
    "# Start with h3,       when h3=1, D2,D3=1, so in sig matrix D2,D3 = 1 for h3\n",
    "#                      when h3=2, D2=1, already have, skip\n",
    "#                      when h3=3, D1,D2=1, so in sig matrix D1=3 for h3"
   ]
  },
  {
   "cell_type": "code",
   "execution_count": null,
   "metadata": {},
   "outputs": [],
   "source": [
    "#b\n",
    "\n",
    "# X: type of rows with 1's in both\n",
    "# Y: type of rows with 1 in one and 0 in the other\n",
    "# Z: type of rows with 0's in both\n",
    "\n",
    "# x = #X rows, y = #Y rows\n",
    "# sim = x/(x+y)\n",
    "\n",
    "#SIM(D1,D2) = 1/3\n",
    "#SIM(D1,D3) = 2/5\n",
    "#SIM(D2,D3) = 2/5\n",
    "\n",
    "#Fraction of rows that agree\n",
    "\n",
    "#Sig\n",
    "#SIM(D1,D2) = 1/3 -> Correct\n",
    "#SIM(D1,D3) = 0 -> 2/5 underestimated\n",
    "#SIM(D2,D3) = 2/3 -> (2/3 - 2/5) overestimated "
   ]
  },
  {
   "cell_type": "code",
   "execution_count": 12,
   "metadata": {},
   "outputs": [],
   "source": [
    "#Q11\n",
    "\n",
    "#System, Model, Structural, Semantic"
   ]
  },
  {
   "cell_type": "code",
   "execution_count": 13,
   "metadata": {},
   "outputs": [],
   "source": [
    "#Q12\n",
    "\n",
    "#Both local schemas (wrappers that map to local data (web pages, xml, rdbms etc) and the global integrated schema (mapping to local schemas))"
   ]
  },
  {
   "cell_type": "code",
   "execution_count": 14,
   "metadata": {},
   "outputs": [],
   "source": [
    "#Q13\n",
    "\n",
    "#Jaccard Distance/Dissimilarity = 1 - Jaccard Similarity\n",
    "\n",
    "#SIM(D1,D2) = 1/3\n",
    "#SIM(D1,D3) = 2/5\n",
    "#SIM(D2,D3) = 2/5\n",
    "\n",
    "#DIST(D1,D2) = 1 - SIM(D1,D2) = 2/3\n",
    "#DIST(D1,D3) = 1 - SIM(D1,D3) = 3/5\n",
    "#DIST(D2,D3) = 1 - SIM(D2,D3) = 3/5"
   ]
  }
 ],
 "metadata": {
  "kernelspec": {
   "display_name": "Python 3",
   "language": "python",
   "name": "python3"
  },
  "language_info": {
   "codemirror_mode": {
    "name": "ipython",
    "version": 3
   },
   "file_extension": ".py",
   "mimetype": "text/x-python",
   "name": "python",
   "nbconvert_exporter": "python",
   "pygments_lexer": "ipython3",
   "version": "3.8.3"
  }
 },
 "nbformat": 4,
 "nbformat_minor": 4
}
